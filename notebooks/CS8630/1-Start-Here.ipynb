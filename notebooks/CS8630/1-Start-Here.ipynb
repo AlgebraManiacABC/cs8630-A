{
 "cells": [
  {
   "cell_type": "markdown",
   "metadata": {},
   "source": [
    "## Module 3 Practice"
   ]
  },
  {
   "cell_type": "markdown",
   "metadata": {},
   "source": [
    "### This is a Python Notebook\n",
    "\n",
    "Following notebook will show basic plots using **ggplot**, **matplotlib**, and **seaborn** packages. \n",
    "\n",
    "The data used in the notebook is taken from [here (external link)](https://www.causeweb.org/cause/research/literature/sexual-activity-and-lifespan-male-fruitflies-dataset-gets-attention). \n",
    "\n",
    "\n",
    "## About the data set\n",
    "From the readme file, a cost of increased reproduction in terms of reduced longevity has been shown for female fruitflies, but not for males.\n",
    "The flies used were an outbred stock.\n",
    "Sexual activity was manipulated by supplying individual males with one or eight receptive virgin females per day.  \n",
    "The longevity of these males was compared with that of two control types.\n",
    "The first control consisted of two sets of individual males kept with one or eight newly inseminated females.\n",
    "Newly inseminated females will not usually remate for at least two days, and thus served as a control for any effect of competition with the male for food or space.\n",
    "\n",
    "The second control was a set of individual males kept with no females. \n",
    "There were 25 males in each of the five groups, which were treated identically in number of anaesthetizations (using CO2) and provision of fresh food medium.\n",
    "\n",
    "The dataset has 125 observations and 5 variables"
   ]
  },
  {
   "cell_type": "code",
   "execution_count": 1,
   "metadata": {},
   "outputs": [
    {
     "data": {
      "text/html": [
       "<div>\n",
       "<style scoped>\n",
       "    .dataframe tbody tr th:only-of-type {\n",
       "        vertical-align: middle;\n",
       "    }\n",
       "\n",
       "    .dataframe tbody tr th {\n",
       "        vertical-align: top;\n",
       "    }\n",
       "\n",
       "    .dataframe thead th {\n",
       "        text-align: right;\n",
       "    }\n",
       "</style>\n",
       "<table border=\"1\" class=\"dataframe\">\n",
       "  <thead>\n",
       "    <tr style=\"text-align: right;\">\n",
       "      <th></th>\n",
       "      <th>ID</th>\n",
       "      <th>Partners</th>\n",
       "      <th>Type</th>\n",
       "      <th>Longevity</th>\n",
       "      <th>Thorax</th>\n",
       "      <th>Sleep</th>\n",
       "    </tr>\n",
       "  </thead>\n",
       "  <tbody>\n",
       "    <tr>\n",
       "      <th>0</th>\n",
       "      <td>1</td>\n",
       "      <td>8</td>\n",
       "      <td>0</td>\n",
       "      <td>35</td>\n",
       "      <td>0.64</td>\n",
       "      <td>22</td>\n",
       "    </tr>\n",
       "    <tr>\n",
       "      <th>1</th>\n",
       "      <td>2</td>\n",
       "      <td>8</td>\n",
       "      <td>0</td>\n",
       "      <td>37</td>\n",
       "      <td>0.68</td>\n",
       "      <td>9</td>\n",
       "    </tr>\n",
       "    <tr>\n",
       "      <th>2</th>\n",
       "      <td>3</td>\n",
       "      <td>8</td>\n",
       "      <td>0</td>\n",
       "      <td>49</td>\n",
       "      <td>0.68</td>\n",
       "      <td>49</td>\n",
       "    </tr>\n",
       "    <tr>\n",
       "      <th>3</th>\n",
       "      <td>4</td>\n",
       "      <td>8</td>\n",
       "      <td>0</td>\n",
       "      <td>46</td>\n",
       "      <td>0.72</td>\n",
       "      <td>1</td>\n",
       "    </tr>\n",
       "    <tr>\n",
       "      <th>4</th>\n",
       "      <td>5</td>\n",
       "      <td>8</td>\n",
       "      <td>0</td>\n",
       "      <td>63</td>\n",
       "      <td>0.72</td>\n",
       "      <td>23</td>\n",
       "    </tr>\n",
       "  </tbody>\n",
       "</table>\n",
       "</div>"
      ],
      "text/plain": [
       "   ID  Partners  Type  Longevity  Thorax  Sleep\n",
       "0   1         8     0         35    0.64     22\n",
       "1   2         8     0         37    0.68      9\n",
       "2   3         8     0         49    0.68     49\n",
       "3   4         8     0         46    0.72      1\n",
       "4   5         8     0         63    0.72     23"
      ]
     },
     "execution_count": 1,
     "metadata": {},
     "output_type": "execute_result"
    }
   ],
   "source": [
    "import pandas as pd\n",
    "\n",
    "fruitfly_data = pd.read_csv('../datasets/fruitfly/fruitfly.txt',sep=\" \",\\\n",
    "                            names=[\"ID\",\"Partners\",\"Type\",\"Longevity\",\"Thorax\",\"Sleep\"])\n",
    "fruitfly_data.head(5)"
   ]
  },
  {
   "cell_type": "code",
   "execution_count": 2,
   "metadata": {},
   "outputs": [
    {
     "data": {
      "text/html": [
       "<div>\n",
       "<style scoped>\n",
       "    .dataframe tbody tr th:only-of-type {\n",
       "        vertical-align: middle;\n",
       "    }\n",
       "\n",
       "    .dataframe tbody tr th {\n",
       "        vertical-align: top;\n",
       "    }\n",
       "\n",
       "    .dataframe thead th {\n",
       "        text-align: right;\n",
       "    }\n",
       "</style>\n",
       "<table border=\"1\" class=\"dataframe\">\n",
       "  <thead>\n",
       "    <tr style=\"text-align: right;\">\n",
       "      <th></th>\n",
       "      <th>ID</th>\n",
       "      <th>Partners</th>\n",
       "      <th>Type</th>\n",
       "      <th>Longevity</th>\n",
       "      <th>Thorax</th>\n",
       "      <th>Sleep</th>\n",
       "    </tr>\n",
       "  </thead>\n",
       "  <tbody>\n",
       "    <tr>\n",
       "      <th>count</th>\n",
       "      <td>125.000000</td>\n",
       "      <td>125.000000</td>\n",
       "      <td>125.000000</td>\n",
       "      <td>125.000000</td>\n",
       "      <td>125.000000</td>\n",
       "      <td>125.000000</td>\n",
       "    </tr>\n",
       "    <tr>\n",
       "      <th>mean</th>\n",
       "      <td>13.000000</td>\n",
       "      <td>3.600000</td>\n",
       "      <td>2.200000</td>\n",
       "      <td>57.440000</td>\n",
       "      <td>0.820960</td>\n",
       "      <td>23.464000</td>\n",
       "    </tr>\n",
       "    <tr>\n",
       "      <th>std</th>\n",
       "      <td>7.240121</td>\n",
       "      <td>3.625626</td>\n",
       "      <td>3.443086</td>\n",
       "      <td>17.563893</td>\n",
       "      <td>0.077454</td>\n",
       "      <td>15.878848</td>\n",
       "    </tr>\n",
       "    <tr>\n",
       "      <th>min</th>\n",
       "      <td>1.000000</td>\n",
       "      <td>0.000000</td>\n",
       "      <td>0.000000</td>\n",
       "      <td>16.000000</td>\n",
       "      <td>0.640000</td>\n",
       "      <td>1.000000</td>\n",
       "    </tr>\n",
       "    <tr>\n",
       "      <th>25%</th>\n",
       "      <td>7.000000</td>\n",
       "      <td>1.000000</td>\n",
       "      <td>0.000000</td>\n",
       "      <td>46.000000</td>\n",
       "      <td>0.760000</td>\n",
       "      <td>13.000000</td>\n",
       "    </tr>\n",
       "    <tr>\n",
       "      <th>50%</th>\n",
       "      <td>13.000000</td>\n",
       "      <td>1.000000</td>\n",
       "      <td>1.000000</td>\n",
       "      <td>58.000000</td>\n",
       "      <td>0.840000</td>\n",
       "      <td>20.000000</td>\n",
       "    </tr>\n",
       "    <tr>\n",
       "      <th>75%</th>\n",
       "      <td>19.000000</td>\n",
       "      <td>8.000000</td>\n",
       "      <td>1.000000</td>\n",
       "      <td>70.000000</td>\n",
       "      <td>0.880000</td>\n",
       "      <td>29.000000</td>\n",
       "    </tr>\n",
       "    <tr>\n",
       "      <th>max</th>\n",
       "      <td>25.000000</td>\n",
       "      <td>8.000000</td>\n",
       "      <td>9.000000</td>\n",
       "      <td>97.000000</td>\n",
       "      <td>0.940000</td>\n",
       "      <td>83.000000</td>\n",
       "    </tr>\n",
       "  </tbody>\n",
       "</table>\n",
       "</div>"
      ],
      "text/plain": [
       "               ID    Partners        Type   Longevity      Thorax       Sleep\n",
       "count  125.000000  125.000000  125.000000  125.000000  125.000000  125.000000\n",
       "mean    13.000000    3.600000    2.200000   57.440000    0.820960   23.464000\n",
       "std      7.240121    3.625626    3.443086   17.563893    0.077454   15.878848\n",
       "min      1.000000    0.000000    0.000000   16.000000    0.640000    1.000000\n",
       "25%      7.000000    1.000000    0.000000   46.000000    0.760000   13.000000\n",
       "50%     13.000000    1.000000    1.000000   58.000000    0.840000   20.000000\n",
       "75%     19.000000    8.000000    1.000000   70.000000    0.880000   29.000000\n",
       "max     25.000000    8.000000    9.000000   97.000000    0.940000   83.000000"
      ]
     },
     "execution_count": 2,
     "metadata": {},
     "output_type": "execute_result"
    }
   ],
   "source": [
    "# Check the descriptive statistics for the dataset\n",
    "fruitfly_data.describe()"
   ]
  },
  {
   "cell_type": "code",
   "execution_count": 3,
   "metadata": {},
   "outputs": [
    {
     "data": {
      "text/plain": [
       "Partners\n",
       "8    50\n",
       "1    50\n",
       "0    25\n",
       "Name: count, dtype: int64"
      ]
     },
     "execution_count": 3,
     "metadata": {},
     "output_type": "execute_result"
    }
   ],
   "source": [
    "# Save the distribution of variable Partners in a variable called \"counts\"\n",
    "counts = fruitfly_data.Partners.value_counts()\n",
    "counts"
   ]
  },
  {
   "cell_type": "code",
   "execution_count": 4,
   "metadata": {},
   "outputs": [
    {
     "data": {
      "text/html": [
       "<div>\n",
       "<style scoped>\n",
       "    .dataframe tbody tr th:only-of-type {\n",
       "        vertical-align: middle;\n",
       "    }\n",
       "\n",
       "    .dataframe tbody tr th {\n",
       "        vertical-align: top;\n",
       "    }\n",
       "\n",
       "    .dataframe thead th {\n",
       "        text-align: right;\n",
       "    }\n",
       "</style>\n",
       "<table border=\"1\" class=\"dataframe\">\n",
       "  <thead>\n",
       "    <tr style=\"text-align: right;\">\n",
       "      <th></th>\n",
       "      <th>Partners</th>\n",
       "      <th>count</th>\n",
       "    </tr>\n",
       "    <tr>\n",
       "      <th>Partners</th>\n",
       "      <th></th>\n",
       "      <th></th>\n",
       "    </tr>\n",
       "  </thead>\n",
       "  <tbody>\n",
       "    <tr>\n",
       "      <th>8</th>\n",
       "      <td>8</td>\n",
       "      <td>50</td>\n",
       "    </tr>\n",
       "    <tr>\n",
       "      <th>1</th>\n",
       "      <td>1</td>\n",
       "      <td>50</td>\n",
       "    </tr>\n",
       "    <tr>\n",
       "      <th>0</th>\n",
       "      <td>0</td>\n",
       "      <td>25</td>\n",
       "    </tr>\n",
       "  </tbody>\n",
       "</table>\n",
       "</div>"
      ],
      "text/plain": [
       "          Partners  count\n",
       "Partners                 \n",
       "8                8     50\n",
       "1                1     50\n",
       "0                0     25"
      ]
     },
     "execution_count": 4,
     "metadata": {},
     "output_type": "execute_result"
    }
   ],
   "source": [
    "# Create a dataframe \"No_of_Partners\" to make a bar graph for Partners variable\n",
    "# No_of_Partners has two columns, 'Partners' to save no of partners and 'count' to store respective frequency count.\n",
    "No_of_Partners = {'Partners' : [8, 1, 0], 'count' : counts}\n",
    "No_of_Partners=pd.DataFrame(No_of_Partners)\n",
    "No_of_Partners"
   ]
  },
  {
   "cell_type": "markdown",
   "metadata": {},
   "source": [
    "---\n",
    "\n",
    "## Grammar of Graphics\n"
   ]
  },
  {
   "cell_type": "code",
   "execution_count": 5,
   "metadata": {},
   "outputs": [
    {
     "ename": "ModuleNotFoundError",
     "evalue": "No module named 'plotnine'",
     "output_type": "error",
     "traceback": [
      "\u001b[31m---------------------------------------------------------------------------\u001b[39m",
      "\u001b[31mModuleNotFoundError\u001b[39m                       Traceback (most recent call last)",
      "\u001b[36mCell\u001b[39m\u001b[36m \u001b[39m\u001b[32mIn[5]\u001b[39m\u001b[32m, line 6\u001b[39m\n\u001b[32m      1\u001b[39m \u001b[38;5;66;03m#from ggplot import *\u001b[39;00m\n\u001b[32m      2\u001b[39m \u001b[38;5;66;03m#import rpy2\u001b[39;00m\n\u001b[32m      3\u001b[39m \u001b[38;5;66;03m# Warnings expected\u001b[39;00m\n\u001b[32m      4\u001b[39m \n\u001b[32m      5\u001b[39m \u001b[38;5;66;03m## ggplot is deprecated in python,. Has not been updated in 2016\u001b[39;00m\n\u001b[32m----> \u001b[39m\u001b[32m6\u001b[39m \u001b[38;5;28;01mimport\u001b[39;00m\u001b[38;5;250m \u001b[39m\u001b[34;01mplotnine\u001b[39;00m\n\u001b[32m      8\u001b[39m \u001b[38;5;28;01mfrom\u001b[39;00m\u001b[38;5;250m \u001b[39m\u001b[34;01mplotnine\u001b[39;00m\u001b[38;5;250m \u001b[39m\u001b[38;5;28;01mimport\u001b[39;00m ggplot, aes, geom_bar\n",
      "\u001b[31mModuleNotFoundError\u001b[39m: No module named 'plotnine'"
     ]
    }
   ],
   "source": [
    "#from ggplot import *\n",
    "#import rpy2\n",
    "# Warnings expected\n",
    "\n",
    "## ggplot is deprecated in python.\n",
    "import plotnine\n",
    "\n",
    "from plotnine import ggplot, aes, geom_bar\n",
    "\n"
   ]
  },
  {
   "cell_type": "code",
   "execution_count": null,
   "metadata": {},
   "outputs": [],
   "source": [
    "# Create a bar chart for Partners variable using ggplot package.\n",
    "# ggplot(aes(x=\"Partners\", weight=\"count\"), No_of_Partners) + geom_bar()\n",
    "ggplot(aes(x=\"Partners\", weight=\"count\"), No_of_Partners) + geom_bar()\n",
    "plot = ggplot(No_of_Partners, aes(x='Partners', weight='count')) + geom_bar()"
   ]
  },
  {
   "cell_type": "code",
   "execution_count": null,
   "metadata": {},
   "outputs": [],
   "source": [
    "plot.draw()"
   ]
  },
  {
   "cell_type": "code",
   "execution_count": null,
   "metadata": {},
   "outputs": [],
   "source": [
    "type(fruitfly_data.Partners)"
   ]
  },
  {
   "cell_type": "markdown",
   "metadata": {},
   "source": [
    "Convert the type of Partners from integer to Object so that it can be used to color the data points. "
   ]
  },
  {
   "cell_type": "code",
   "execution_count": null,
   "metadata": {},
   "outputs": [],
   "source": [
    "fruitfly_data['Partners']=fruitfly_data['Partners'].astype(object)\n",
    "type(fruitfly_data.Partners)"
   ]
  },
  {
   "cell_type": "code",
   "execution_count": null,
   "metadata": {},
   "outputs": [],
   "source": [
    "from plotnine import ggplot, aes, geom_point, facet_grid\n",
    "\n",
    "# Assuming fruitfly_data is your DataFrame\n",
    "p = ggplot(fruitfly_data, aes(x='Longevity', y='Thorax', color='Partners')) \n",
    "p = p + geom_point(size=10) + facet_grid('Partners ~ Type')\n",
    "\n",
    "# To display the plot\n",
    "#print(p)\n",
    "p.show()"
   ]
  },
  {
   "cell_type": "markdown",
   "metadata": {},
   "source": [
    "## Matplot Lib\n",
    "\n",
    "Matplot Lib is the default plotting library of python.\n",
    "The code below uses matplotlib package to draw a histogram. \n",
    "As you know from statistics, this is a type of bar-chart,where the bars are frequencies."
   ]
  },
  {
   "cell_type": "code",
   "execution_count": null,
   "metadata": {},
   "outputs": [],
   "source": [
    "%matplotlib inline\n",
    "import matplotlib.pyplot as plt\n",
    "\n",
    "# Histogram for Longevity variable with 20 bins\n",
    "plt.hist(fruitfly_data.Longevity, bins=20)\n",
    "plt.xlabel('Longevity')\n",
    "plt.ylabel('count')\n",
    "plt.title('Histogram of Longevity')"
   ]
  },
  {
   "cell_type": "markdown",
   "metadata": {},
   "source": [
    "## Seaborn\n",
    "\n",
    "##### From the documentation\n",
    "\n",
    "Seaborn is a library for making attractive and informative statistical graphics in Python. \n",
    "It is built on top of matplotlib and tightly integrated with the PyData stack, including support for numpy and pandas data structures and statistical routines from scipy and statsmodels.\n",
    "\n",
    "Some of the features that seaborn offers are:\n",
    "  * Several built-in themes that improve on the default matplotlib aesthetics\n",
    "  * Tools for choosing color palettes to make beautiful plots that reveal patterns in your data\n",
    "  * Functions for visualizing univariate and bivariate distributions or for comparing them between subsets of data\n",
    "  * Tools that fit and visualize linear regression models for different kinds of independent and dependent variables\n",
    "  * Functions that visualize matrices of data and use clustering algorithms to discover structure in those matrices\n",
    "  * A function to plot statistical timeseries data with flexible estimation and representation of uncertainty around the estimate\n",
    "  * High-level abstractions for structuring grids of plots that let you easily build complex visualizations\n",
    "\n",
    "...\n",
    "\n",
    "Seaborn should be thought of as a complement to matplotlib, not a replacement for it. \n",
    "When using seaborn, it is likely that you will often invoke matplotlib functions directly to draw simpler plots already available through the pyplot namespace. \n",
    "Further, while the seaborn functions aim to make plots that are reasonably “production ready” (including extracting semantic information from Pandas objects to add informative labels), full customization of the figures will require a sophisticated understanding of matplotlib objects.\n",
    "\n",
    "https://seaborn.pydata.org/introduction.html\n",
    "\n",
    "  * [Local Mirror](https://indigo.sgn.missouri.edu/static/mirror_sites/seaborn.pydata.org/introduction.html)\n",
    "\n",
    "\n",
    "### Faceted Exploration\n",
    "\n",
    "Faceted exploration will _automagically_ lay out mutliple plots allowing the comparison of difference combinations of factors on the data set."
   ]
  },
  {
   "cell_type": "code",
   "execution_count": null,
   "metadata": {},
   "outputs": [],
   "source": [
    "import seaborn as sns\n",
    "%matplotlib inline\n",
    "import matplotlib.pyplot as plt\n",
    "\n",
    "g = sns.FacetGrid(fruitfly_data, row=\"Partners\", col=\"Type\")\n",
    "g.map(plt.hist, \"Longevity\")"
   ]
  },
  {
   "cell_type": "markdown",
   "metadata": {},
   "source": [
    "The facets work with other plots types as well."
   ]
  },
  {
   "cell_type": "code",
   "execution_count": null,
   "metadata": {},
   "outputs": [],
   "source": [
    "\n",
    "g = sns.FacetGrid(fruitfly_data, row=\"Partners\", col=\"Type\")\n",
    "g.map(plt.scatter, \"Longevity\", \"Sleep\")"
   ]
  },
  {
   "cell_type": "markdown",
   "metadata": {},
   "source": [
    "## Bar charts\n",
    "\n",
    "Bar charts uses horizontal or vertical bars to show comparisons among categories. \n",
    "\n",
    "One axis of the chart shows the categories being compared, and the other axis represents a quantitative value. \n"
   ]
  },
  {
   "cell_type": "code",
   "execution_count": null,
   "metadata": {},
   "outputs": [],
   "source": [
    "# Using the No_of_Partners datafrom compute above\n",
    "sns.barplot(x=\"Partners\", y=\"count\",data=No_of_Partners)"
   ]
  },
  {
   "cell_type": "markdown",
   "metadata": {},
   "source": [
    "## Box and Whisker Plots\n",
    "\n",
    "Box plot is a convenient way of graphically depicting common descriptive statistics of data, divided into categories. Box plots may also have lines extending vertically from the boxes (**whiskers**) indicating variability outside the upper and lower quartiles, hence the terms box and whisker plot.\n",
    "\n",
    "![Boxplot_vs_PDF](../images/Boxplot_vs_PDF.png)\n",
    "###### from: By Jhguch at en.wikipedia, CC BY-SA 2.5, https://commons.wikimedia.org/w/index.php?curid=14524285\n"
   ]
  },
  {
   "cell_type": "code",
   "execution_count": null,
   "metadata": {},
   "outputs": [],
   "source": [
    "# Draw a nested boxplot to show \n",
    "sns.boxplot(x=\"Type\", y=\"Longevity\", data=fruitfly_data) #, palette=\"PRGn\")"
   ]
  },
  {
   "cell_type": "code",
   "execution_count": null,
   "metadata": {
    "scrolled": true
   },
   "outputs": [],
   "source": [
    "# Draw a nested boxplot to show \n",
    "sns.boxplot(x=\"Partners\", y=\"Longevity\",hue=\"Type\",  data=fruitfly_data, palette=\"PRGn\")"
   ]
  },
  {
   "cell_type": "markdown",
   "metadata": {},
   "source": [
    "**Notice**, buy adding the hue parameter as a new visual variable, the plot groups the defined variable as subsets of partners.\n",
    "\n",
    "Below, we will turn the box and whiskers sideways."
   ]
  },
  {
   "cell_type": "code",
   "execution_count": null,
   "metadata": {},
   "outputs": [],
   "source": [
    "# Draw a nested boxplot to show \n",
    "sns.boxplot(x=\"Longevity\",y=\"Partners\",hue=\"Type\", orient=\"h\",  data=fruitfly_data) #, palette=\"PRGn\")"
   ]
  },
  {
   "cell_type": "code",
   "execution_count": null,
   "metadata": {},
   "outputs": [],
   "source": []
  }
 ],
 "metadata": {
  "anaconda-cloud": {},
  "kernelspec": {
   "display_name": "Python 3 (ipykernel)",
   "language": "python",
   "name": "python3"
  },
  "language_info": {
   "codemirror_mode": {
    "name": "ipython",
    "version": 3
   },
   "file_extension": ".py",
   "mimetype": "text/x-python",
   "name": "python",
   "nbconvert_exporter": "python",
   "pygments_lexer": "ipython3",
   "version": "3.12.11"
  }
 },
 "nbformat": 4,
 "nbformat_minor": 4
}
